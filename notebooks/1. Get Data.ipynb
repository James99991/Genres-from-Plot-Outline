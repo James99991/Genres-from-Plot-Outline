{
 "cells": [
  {
   "cell_type": "markdown",
   "metadata": {},
   "source": [
    "# Creating a Dataset Using MovieLens and IMDBpy\n",
    "\n",
    "Author: James Smith"
   ]
  },
  {
   "cell_type": "markdown",
   "metadata": {},
   "source": [
    "> IMDbPY is a Python package for retrieving and managing the data of the IMDb movie database about movies and people.\n",
    "\n",
    "It was used to obatin plot overviews and a list of genres for a select number of movies.\n",
    "\n",
    "It is currently not possible to get a list of all IMDb movie ID's from th API, thus making it not practical to easily curate a dataset.\n",
    "\n",
    "To obtain a list of IMDb ID's, datasets available on {MovieLens}[https://grouplens.org/datasets/movielens/] were used and appended to each other to obtain the largest number of ID's to begin with\n",
    "- MovieLens 20M Dataset\n",
    "    - Last Updated 10/2016\n",
    "- MovieLens Latest Datasets\n",
    "    - Last Updated 09/2018"
   ]
  },
  {
   "cell_type": "markdown",
   "metadata": {},
   "source": [
    "# Retrieving Data"
   ]
  },
  {
   "cell_type": "markdown",
   "metadata": {},
   "source": [
    "## Setup and Configuration"
   ]
  },
  {
   "cell_type": "code",
   "execution_count": 1,
   "metadata": {},
   "outputs": [],
   "source": [
    "import pandas as pd"
   ]
  },
  {
   "cell_type": "markdown",
   "metadata": {},
   "source": [
    "Get ID's from local dataset"
   ]
  },
  {
   "cell_type": "code",
   "execution_count": 2,
   "metadata": {},
   "outputs": [
    {
     "name": "stdout",
     "output_type": "stream",
     "text": [
      "There are 28251 unique Movie ID's\n"
     ]
    }
   ],
   "source": [
    "movie_data_loc_1 = r\"C:\\Users\\User\\Documents\\ITB Year 2\\Text Analytics and Web Content Mining\\Assignments\\Assignment 2\\Data\\ml-20m\\ml-20m\\links.csv\"\n",
    "movie_data_loc_2 = r\"C:\\Users\\User\\Documents\\ITB Year 2\\Text Analytics and Web Content Mining\\Assignments\\Assignment 2\\Data\\ml-latest-small\\ml-latest-small\\links.csv\"\n",
    "\n",
    "def get_data(loc_1, loc_2):\n",
    "    \"\"\"\n",
    "    IMDb ID's sometimes contain a '0' before the ID, thus \n",
    "    we must ensure we load it as a string and not a number.\n",
    "    \n",
    "    \"\"\"\n",
    "    data_1 = pd.read_csv(loc_1, usecols = ['imdbId'], dtype = {'imdbId': str})\n",
    "    data_2 = pd.read_csv(loc_2, usecols = ['imdbId'], dtype = {'imdbId': str})\n",
    "    \n",
    "    data_union = pd.concat([data_1, data_2],\n",
    "                          ignore_index = True).drop_duplicates()\n",
    "    \n",
    "    print(\"There are \"+str(len(data_union.imdbId.unique()))+\" unique Movie ID's\")\n",
    "    return data_union\n",
    "\n",
    "movie_ids = get_data(movie_data_loc_1, movie_data_loc_2)"
   ]
  },
  {
   "cell_type": "markdown",
   "metadata": {},
   "source": [
    "## Understanding the IMDb API"
   ]
  },
  {
   "cell_type": "code",
   "execution_count": 56,
   "metadata": {},
   "outputs": [],
   "source": [
    "import imdb\n",
    "movieDB = imdb.IMDb()"
   ]
  },
  {
   "cell_type": "markdown",
   "metadata": {},
   "source": [
    "**Example Movie**"
   ]
  },
  {
   "cell_type": "code",
   "execution_count": 4,
   "metadata": {},
   "outputs": [
    {
     "data": {
      "text/plain": [
       "'0114709'"
      ]
     },
     "execution_count": 4,
     "metadata": {},
     "output_type": "execute_result"
    }
   ],
   "source": [
    "id_example = movie_ids['imdbId'][0]\n",
    "id_example"
   ]
  },
  {
   "cell_type": "code",
   "execution_count": 5,
   "metadata": {},
   "outputs": [
    {
     "data": {
      "text/plain": [
       "<Movie id:0114709[http] title:_Toy Story (1995)_>"
      ]
     },
     "execution_count": 5,
     "metadata": {},
     "output_type": "execute_result"
    }
   ],
   "source": [
    "movie_example = movieDB.get_movie(id_example)\n",
    "movie_example"
   ]
  },
  {
   "cell_type": "code",
   "execution_count": 6,
   "metadata": {
    "scrolled": true
   },
   "outputs": [
    {
     "name": "stdout",
     "output_type": "stream",
     "text": [
      "Title: Toy Story\n",
      "Plot Outline: A little boy named Andy loves to be in his room, playing with his toys, especially his doll named \"Woody\". But, what do the toys do when Andy is not with them, they come to life. Woody believes that his life (as a toy) is good. However, he must worry about Andy's family moving, and what Woody does not know is about Andy's birthday party. Woody does not realize that Andy's mother gave him an action figure known as Buzz Lightyear, who does not believe that he is a toy, and quickly becomes Andy's new favorite toy. Woody, who is now consumed with jealousy, tries to get rid of Buzz. Then, both Woody and Buzz are now lost. They must find a way to get back to Andy before he moves without them, but they will have to pass through a ruthless toy killer, Sid Phillips.\n",
      "['Animation', 'Adventure', 'Comedy', 'Family', 'Fantasy']\n"
     ]
    }
   ],
   "source": [
    "print(\"Title: \"+movie_example['title'])\n",
    "print(\"Plot Outline: \"+movie_example['plot outline'])\n",
    "print(movie_example['genres'])"
   ]
  },
  {
   "cell_type": "markdown",
   "metadata": {},
   "source": [
    "## Attaining Attributes"
   ]
  },
  {
   "cell_type": "code",
   "execution_count": 60,
   "metadata": {},
   "outputs": [],
   "source": [
    "from IPython.display import clear_output\n",
    "import timeit\n",
    "import numpy as np\n",
    "# https://towardsdatascience.com/the-simplest-cleanest-method-for-tracking-a-for-loops-progress-and-expected-run-time-in-python-972675392b3\n",
    "\n",
    "import imdb\n",
    "movieDB = imdb.IMDb()"
   ]
  },
  {
   "cell_type": "code",
   "execution_count": 69,
   "metadata": {},
   "outputs": [],
   "source": [
    "def attain_attributes(df):\n",
    "    \n",
    "    start = timeit.default_timer()\n",
    "    for i in df.index:\n",
    "        \n",
    "        try:\n",
    "            clear_output(wait = True)\n",
    "\n",
    "            movie_object = movieDB.get_movie(df['imdbId'][i])\n",
    "\n",
    "            title = movie_object['title']\n",
    "            df.at[i, 'title'] = title\n",
    "\n",
    "            try:\n",
    "                plot_outline = movie_object['plot outline']\n",
    "                df.at[i, 'plot_outline'] = plot_outline\n",
    "            except: \n",
    "                df.at[i, 'plot_outline'] = ''\n",
    "\n",
    "            try:\n",
    "                genres = movie_object['genres']\n",
    "                df.at[i, 'genres'] = ', '.join(genres)\n",
    "            except:\n",
    "                df.at[i, 'genres'] = ''\n",
    "\n",
    "            stop = timeit.default_timer()\n",
    "\n",
    "            if (i/len(df) * 100) < 5:\n",
    "                expected_time = \"Calculating...\"\n",
    "            else:\n",
    "                stop = timeit.default_timer()\n",
    "                expected_time = np.round( ((stop - start) / (i/len(df))) / 60, 2)\n",
    "\n",
    "            print(\"Current progress:\", np.round(i/len(df) * 100, 2), \"%\")\n",
    "            print(\"Current run time:\", np.round((stop - start)/60, 2), \"minutes\")\n",
    "            print(\"Expected run time:\", expected_time,\"minutes\")\n",
    "        \n",
    "        except:\n",
    "            print(\"There was an error when obtaining data for the following ID:\",df['imdbId'][i])\n",
    "\n",
    "    return df"
   ]
  },
  {
   "cell_type": "markdown",
   "metadata": {},
   "source": [
    "Below cell gathers the data - **commented out once it's loaded**"
   ]
  },
  {
   "cell_type": "code",
   "execution_count": 70,
   "metadata": {},
   "outputs": [
    {
     "name": "stdout",
     "output_type": "stream",
     "text": [
      "Current progress: 131.04 %\n",
      "Current run time: 1120.79 minutes\n",
      "Expected run time: 855.33 minutes\n"
     ]
    }
   ],
   "source": [
    "#df = movie_ids.copy()\n",
    "#loc = r\"C:\\Users\\User\\Documents\\ITB Year 2\\Text Analytics and Web Content Mining\\Assignments\\Assignment 2\\Data\\overview_dataset.csv\"\n",
    "#data = attain_attributes(df)\n",
    "#data.to_csv(loc)"
   ]
  }
 ],
 "metadata": {
  "kernelspec": {
   "display_name": "Python 3",
   "language": "python",
   "name": "python3"
  },
  "language_info": {
   "codemirror_mode": {
    "name": "ipython",
    "version": 3
   },
   "file_extension": ".py",
   "mimetype": "text/x-python",
   "name": "python",
   "nbconvert_exporter": "python",
   "pygments_lexer": "ipython3",
   "version": "3.5.5"
  },
  "toc": {
   "base_numbering": 1,
   "nav_menu": {},
   "number_sections": true,
   "sideBar": true,
   "skip_h1_title": false,
   "title_cell": "Table of Contents",
   "title_sidebar": "Contents",
   "toc_cell": false,
   "toc_position": {},
   "toc_section_display": true,
   "toc_window_display": false
  }
 },
 "nbformat": 4,
 "nbformat_minor": 2
}
