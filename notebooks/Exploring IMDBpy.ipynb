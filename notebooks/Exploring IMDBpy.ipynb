{
 "cells": [
  {
   "cell_type": "markdown",
   "metadata": {},
   "source": [
    "# Exploring IMDBpy"
   ]
  },
  {
   "cell_type": "markdown",
   "metadata": {},
   "source": [
    "## Quick Start"
   ]
  },
  {
   "cell_type": "code",
   "execution_count": 1,
   "metadata": {},
   "outputs": [],
   "source": [
    "import imdb\n",
    "\n",
    "# Get access object\n",
    "ia = imdb.IMDb() "
   ]
  },
  {
   "cell_type": "markdown",
   "metadata": {},
   "source": [
    "### Searching"
   ]
  },
  {
   "cell_type": "code",
   "execution_count": 29,
   "metadata": {},
   "outputs": [
    {
     "name": "stdout",
     "output_type": "stream",
     "text": [
      "Searching for \"matrix\":\n",
      "The Matrix - 1999\n",
      "Matrix - 1993\n",
      "Matrix - 2008\n",
      "The Matrix Reloaded - 2003\n",
      "The Matrix Revolutions - 2003\n",
      "The Matrix Revisited - 2001\n",
      "Cyber Wars - 2004\n",
      "Matrix IV - 2010\n",
      "The Matrix 4 - 2022\n",
      "The Matrix - 2016\n",
      "The Animatrix - 2003\n",
      "Threat Matrix - 2003\n",
      "Enter the Matrix - 2003\n",
      "The Matrix - 2004\n",
      "Matriarch - 2018\n",
      "The Matrix Online - 2005\n",
      "V-World Matrix - 1999\n",
      "Matrixx - 2001\n",
      "Sex and the Matrix - 2000\n",
      "The Matrix: Path of Neo - 2005\n"
     ]
    }
   ],
   "source": [
    "movies = ia.search_movie('matrix')\n",
    "print('Searching for \"matrix\":')\n",
    "for movie in movies:\n",
    "    title = movie['title']\n",
    "    year = movie['year']\n",
    "    print(str(title)+\" - \"+str(year))"
   ]
  },
  {
   "cell_type": "code",
   "execution_count": 4,
   "metadata": {},
   "outputs": [
    {
     "data": {
      "text/plain": [
       "list"
      ]
     },
     "execution_count": 4,
     "metadata": {},
     "output_type": "execute_result"
    }
   ],
   "source": [
    "type(movies)"
   ]
  },
  {
   "cell_type": "code",
   "execution_count": 30,
   "metadata": {},
   "outputs": [
    {
     "name": "stdout",
     "output_type": "stream",
     "text": [
      "['kind', 'year', 'title', 'cover url', 'canonical title', 'long imdb title', 'long imdb canonical title', 'smart canonical title', 'smart long imdb canonical title', 'full-size cover url']\n"
     ]
    }
   ],
   "source": [
    "print(movies[0].keys())"
   ]
  },
  {
   "cell_type": "code",
   "execution_count": 10,
   "metadata": {},
   "outputs": [
    {
     "data": {
      "text/plain": [
       "<Person id:0001401[http] name:_Angelina Jolie_>"
      ]
     },
     "execution_count": 10,
     "metadata": {},
     "output_type": "execute_result"
    }
   ],
   "source": [
    "people = ia.search_person('angelina')\n",
    "people[0]"
   ]
  },
  {
   "cell_type": "code",
   "execution_count": 12,
   "metadata": {},
   "outputs": [
    {
     "data": {
      "text/plain": [
       "'The Matrix'"
      ]
     },
     "execution_count": 12,
     "metadata": {},
     "output_type": "execute_result"
    }
   ],
   "source": [
    "movies[0]['title']"
   ]
  },
  {
   "cell_type": "code",
   "execution_count": 14,
   "metadata": {},
   "outputs": [
    {
     "data": {
      "text/plain": [
       "'0133093'"
      ]
     },
     "execution_count": 14,
     "metadata": {},
     "output_type": "execute_result"
    }
   ],
   "source": [
    "movies[0].movieID"
   ]
  },
  {
   "cell_type": "markdown",
   "metadata": {},
   "source": [
    "### Keywords"
   ]
  },
  {
   "cell_type": "code",
   "execution_count": 15,
   "metadata": {},
   "outputs": [
    {
     "data": {
      "text/plain": [
       "['dystopia',\n",
       " 'dystopian-future',\n",
       " 'dystopian-society',\n",
       " 'dystopian-science-fiction',\n",
       " 'dystopian-fiction',\n",
       " 'dystopian-world',\n",
       " 'dystopian-utopia',\n",
       " 'corporate-dystopia',\n",
       " 'dystopian-fantasy',\n",
       " 'real-life-dystopia',\n",
       " 'alien-dystopia',\n",
       " 'alien-dystopian-society',\n",
       " 'dystopic-future',\n",
       " 'dystopian-alternate-universe']"
      ]
     },
     "execution_count": 15,
     "metadata": {},
     "output_type": "execute_result"
    }
   ],
   "source": [
    "keywords = ia.search_keyword('dystopia')\n",
    "keywords"
   ]
  },
  {
   "cell_type": "code",
   "execution_count": 18,
   "metadata": {},
   "outputs": [
    {
     "data": {
      "text/plain": [
       "[<Movie id:0944947[http] title:_Game of Thrones (2011–2019)) (None)_>,\n",
       " <Movie id:0409459[http] title:_Watchmen (2009)_>,\n",
       " <Movie id:2085059[http] title:_Black Mirror (2011–) (None)_>,\n",
       " <Movie id:4154796[http] title:_Avengers: Endgame (2019)_>,\n",
       " <Movie id:0103064[http] title:_Terminator 2: Judgment Day (1991)_>]"
      ]
     },
     "execution_count": 18,
     "metadata": {},
     "output_type": "execute_result"
    }
   ],
   "source": [
    "movies = ia.get_keyword('dystopia')\n",
    "movies[0:5]"
   ]
  },
  {
   "cell_type": "markdown",
   "metadata": {},
   "source": [
    "### Top movies"
   ]
  },
  {
   "cell_type": "code",
   "execution_count": 19,
   "metadata": {},
   "outputs": [
    {
     "data": {
      "text/plain": [
       "[<Movie id:0111161[http] title:_The Shawshank Redemption (1994)_>,\n",
       " <Movie id:0068646[http] title:_The Godfather (1972)_>,\n",
       " <Movie id:0071562[http] title:_The Godfather: Part II (1974)_>,\n",
       " <Movie id:0468569[http] title:_The Dark Knight (2008)_>,\n",
       " <Movie id:0050083[http] title:_12 Angry Men (1957)_>]"
      ]
     },
     "execution_count": 19,
     "metadata": {},
     "output_type": "execute_result"
    }
   ],
   "source": [
    "top = ia.get_top250_movies()\n",
    "top[0:5]"
   ]
  },
  {
   "cell_type": "markdown",
   "metadata": {},
   "source": [
    "### Exceptions"
   ]
  },
  {
   "cell_type": "code",
   "execution_count": 22,
   "metadata": {},
   "outputs": [],
   "source": [
    "from imdb import IMDb, IMDbError\n",
    "\n",
    "try:\n",
    "    ia = IMDb()\n",
    "    people = ia.search_person('Mel Gibson')\n",
    "except IMDbError as e:\n",
    "    print(e)"
   ]
  },
  {
   "cell_type": "markdown",
   "metadata": {},
   "source": [
    "### General Attributes"
   ]
  },
  {
   "cell_type": "code",
   "execution_count": 25,
   "metadata": {},
   "outputs": [
    {
     "name": "stdout",
     "output_type": "stream",
     "text": [
      "['__class__', '__delattr__', '__dict__', '__dir__', '__doc__', '__eq__', '__format__', '__ge__', '__getattribute__', '__gt__', '__hash__', '__init__', '__le__', '__lt__', '__module__', '__ne__', '__new__', '__reduce__', '__reduce_ex__', '__repr__', '__setattr__', '__sizeof__', '__str__', '__subclasshook__', '__weakref__', '_defModFunct', '_getRefs', '_get_infoset', '_get_keyword', '_get_real_characterID', '_get_real_companyID', '_get_real_movieID', '_get_real_personID', '_get_search_content', '_get_search_movie_advanced_content', '_get_top_bottom_movies', '_http_logger', '_keywordsResults', '_mdparse', '_normalize_characterID', '_normalize_companyID', '_normalize_movieID', '_normalize_personID', '_purge_seasons_data', '_reraise_exceptions', '_results', '_retrieve', '_searchIMDb', '_search_character', '_search_company', '_search_episode', '_search_keyword', '_search_movie', '_search_movie_advanced', '_search_person', 'accessSystem', 'character2imdbID', 'compProxy', 'company2imdbID', 'del_cookies', 'do_adult_search', 'get_bottom100_movies', 'get_character', 'get_character_infoset', 'get_company', 'get_company_infoset', 'get_company_main', 'get_episode', 'get_imdbCharacterID', 'get_imdbCompanyID', 'get_imdbID', 'get_imdbMovieID', 'get_imdbPersonID', 'get_imdbURL', 'get_keyword', 'get_movie', 'get_movie_airing', 'get_movie_akas', 'get_movie_alternate_versions', 'get_movie_awards', 'get_movie_connections', 'get_movie_crazy_credits', 'get_movie_critic_reviews', 'get_movie_episodes', 'get_movie_external_reviews', 'get_movie_external_sites', 'get_movie_faqs', 'get_movie_full_credits', 'get_movie_goofs', 'get_movie_infoset', 'get_movie_keywords', 'get_movie_locations', 'get_movie_main', 'get_movie_misc_sites', 'get_movie_news', 'get_movie_official_sites', 'get_movie_parents_guide', 'get_movie_photo_sites', 'get_movie_plot', 'get_movie_quotes', 'get_movie_release_dates', 'get_movie_release_info', 'get_movie_reviews', 'get_movie_sound_clips', 'get_movie_soundtrack', 'get_movie_synopsis', 'get_movie_taglines', 'get_movie_technical', 'get_movie_trivia', 'get_movie_tv_schedule', 'get_movie_video_clips', 'get_movie_vote_details', 'get_person', 'get_person_awards', 'get_person_biography', 'get_person_filmography', 'get_person_genres_links', 'get_person_infoset', 'get_person_keywords_links', 'get_person_main', 'get_person_news', 'get_person_official_sites', 'get_person_other_works', 'get_person_publicity', 'get_proxy', 'get_special_methods', 'get_top250_movies', 'mProxy', 'name2imdbID', 'new_character', 'new_company', 'new_movie', 'new_person', 'pProxy', 'scompProxy', 'search_character', 'search_company', 'search_episode', 'search_keyword', 'search_movie', 'search_movie_advanced', 'search_person', 'set_cookies', 'set_imdb_urls', 'set_proxy', 'set_timeout', 'skProxy', 'smProxy', 'smaProxy', 'spProxy', 'title2imdbID', 'topBottomProxy', 'update', 'urlOpener', 'urls']\n"
     ]
    }
   ],
   "source": [
    "print(dir(ia))"
   ]
  },
  {
   "cell_type": "markdown",
   "metadata": {},
   "source": [
    "### List movie info for Shawshank Redemption"
   ]
  },
  {
   "cell_type": "code",
   "execution_count": 50,
   "metadata": {},
   "outputs": [
    {
     "data": {
      "text/plain": [
       "'0111161'"
      ]
     },
     "execution_count": 50,
     "metadata": {},
     "output_type": "execute_result"
    }
   ],
   "source": [
    "id = top[0].getID()\n",
    "id\n",
    "#movie = ia.get_movie(id)\n",
    "#movie.keys()"
   ]
  },
  {
   "cell_type": "code",
   "execution_count": 40,
   "metadata": {},
   "outputs": [
    {
     "name": "stdout",
     "output_type": "stream",
     "text": [
      "Tim Robbins, Morgan Freeman, Bob Gunton, William Sadler, Clancy Brown, Gil Bellows, Mark Rolston, James Whitmore, Jeffrey DeMunn, Larry Brandenburg, Neil Giuntoli, Brian Libby, David Proval, Joseph Ragno, Jude Ciccolella, Paul McCrane, Renee Blaine, Scott Mann, John Horton, Gordon Greene, Alfonso Freeman, V.J. Foster, John E. Summers, Frank Medrano, Mack Miles, Alan R. Kessler, Morgan Lund, Cornell Wallace, Gary Lee Davis, Neil Summers, Ned Bellamy, Joe Pecoraro, Harold E. Cope Jr., Brian Delate, Don McManus, Donald Zinn, Dorothy Silver, Robert Haley, Dana Snyder, John D. Craig, Ken Magee, Eugene C. DePasquale, Bill Bolender, Ron Newell, John R. Woodward, Chuck Brauchler, Dion Anderson, Claire Slemmer, James Kisicki, Rohn Thomas, Charlie Kearns, Rob Reider, Brian Brophy, Paul Kennedy, James Babson, Dennis Baker, Fred Culbertson, Richard Doone, Shane Grove, Rita Hayworth, David Hecht, Alonzo F. Jones, Gary Jones, Sergio Kato, Michael Lightsey, Christopher Page, Neil Riddaway, Brad Spencer, Jodiviah Stepp, Mark A. Strain\n"
     ]
    }
   ],
   "source": [
    "casting = movie['cast']\n",
    "actors = ', '.join(map(str, casting))\n",
    "print(actors)"
   ]
  },
  {
   "cell_type": "code",
   "execution_count": 46,
   "metadata": {},
   "outputs": [
    {
     "data": {
      "text/plain": [
       "\"Chronicles the experiences of a formerly successful banker as a prisoner in the gloomy jailhouse of Shawshank after being found guilty of a crime he did not commit. The film portrays the man's unique way of dealing with his new, torturous life; along the way he befriends a number of fellow prisoners, most notably a wise long-term inmate named Red.\""
      ]
     },
     "execution_count": 46,
     "metadata": {},
     "output_type": "execute_result"
    }
   ],
   "source": [
    "movie['plot outline']"
   ]
  },
  {
   "cell_type": "code",
   "execution_count": 47,
   "metadata": {},
   "outputs": [
    {
     "data": {
      "text/plain": [
       "['Drama']"
      ]
     },
     "execution_count": 47,
     "metadata": {},
     "output_type": "execute_result"
    }
   ],
   "source": [
    "movie['genres']"
   ]
  },
  {
   "cell_type": "markdown",
   "metadata": {},
   "source": [
    "## Creating a Dataset"
   ]
  },
  {
   "cell_type": "code",
   "execution_count": 51,
   "metadata": {},
   "outputs": [
    {
     "data": {
      "text/plain": [
       "<Movie id:0114709[http] title:_Toy Story (1995)_>"
      ]
     },
     "execution_count": 51,
     "metadata": {},
     "output_type": "execute_result"
    }
   ],
   "source": [
    "ia.get_movie('0114709')"
   ]
  },
  {
   "cell_type": "code",
   "execution_count": null,
   "metadata": {},
   "outputs": [],
   "source": []
  }
 ],
 "metadata": {
  "kernelspec": {
   "display_name": "Python 3",
   "language": "python",
   "name": "python3"
  },
  "language_info": {
   "codemirror_mode": {
    "name": "ipython",
    "version": 3
   },
   "file_extension": ".py",
   "mimetype": "text/x-python",
   "name": "python",
   "nbconvert_exporter": "python",
   "pygments_lexer": "ipython3",
   "version": "3.5.5"
  },
  "toc": {
   "base_numbering": 1,
   "nav_menu": {},
   "number_sections": true,
   "sideBar": true,
   "skip_h1_title": false,
   "title_cell": "Table of Contents",
   "title_sidebar": "Contents",
   "toc_cell": false,
   "toc_position": {},
   "toc_section_display": true,
   "toc_window_display": false
  }
 },
 "nbformat": 4,
 "nbformat_minor": 2
}
