{
 "cells": [
  {
   "cell_type": "markdown",
   "metadata": {},
   "source": [
    "# Initial Exploration\n",
    "\n",
    "Author: James Smith 28/11/2019"
   ]
  },
  {
   "cell_type": "markdown",
   "metadata": {},
   "source": [
    "## Setup"
   ]
  },
  {
   "cell_type": "code",
   "execution_count": 1,
   "metadata": {},
   "outputs": [
    {
     "name": "stdout",
     "output_type": "stream",
     "text": [
      "C:\\Users\\User\\Documents\\ITB Year 2\\Text Analytics and Web Content Mining\\Assignments\\Assignment 2\\Data\\overview_dataset.csv\n"
     ]
    }
   ],
   "source": [
    "import pandas as pd\n",
    "import os\n",
    "# Change working directory for locating dataset\n",
    "os.chdir(\"..\")\n",
    "\n",
    "# Libraries for producing images\n",
    "import matplotlib.pyplot as plt \n",
    "import seaborn as sns\n",
    "%matplotlib inline\n",
    "# pd.set_option('display.max_colwidth', 300)"
   ]
  },
  {
   "cell_type": "markdown",
   "metadata": {},
   "source": [
    "**Setting up environment for images**\n",
    "- For double column paper images [should be](https://www.sciencemag.org/sites/default/files/Figure_prep_guide.pdf) less than 184mm (7.25 inches) width\n",
    "- For producing academic style plots the link [here](http://www.jesshamrick.com/2016/04/13/reproducible-plots/) gives some good advice with code.\n",
    "    - Set the x- and y-axis tick locations and labels\n",
    "    - Set the x- and y-axis labels\n",
    "    - Set the subplot and/or figure titles\n",
    "    - Remove the top and right spines\n",
    "    - Remove visual tick marks\n",
    "    - Set the style to be “white” and the context to be “paper”\n",
    "    - Set the figure size and call plt.tight_layout()\n"
   ]
  },
  {
   "cell_type": "markdown",
   "metadata": {},
   "source": [
    "**Configuration to save figures**"
   ]
  },
  {
   "cell_type": "code",
   "execution_count": 26,
   "metadata": {},
   "outputs": [],
   "source": [
    "# Where to save figures\n",
    "PROJECT_ROOT_DIR = \".\"\n",
    "FOLDER = \"notebooks\"\n",
    "IMAGE_FOLDER = \"images\""
   ]
  },
  {
   "cell_type": "code",
   "execution_count": null,
   "metadata": {},
   "outputs": [],
   "source": [
    "from genres_from_plot_outline.config import dataset_loc\n",
    "print(dataset_loc)"
   ]
  },
  {
   "cell_type": "code",
   "execution_count": 2,
   "metadata": {},
   "outputs": [],
   "source": [
    "def get_main_dataset(loc):\n",
    "    \"\"\"\n",
    "    IMDb ID's sometimes contain a '0' before the ID, thus \n",
    "    we must ensure we load it as a string and not a number.\n",
    "    \n",
    "    \"\"\"\n",
    "    data = pd.read_csv(loc, usecols = ['imdbId', 'title', 'plot_outline', 'genres'], dtype = {'imdbId': str})\n",
    "    \n",
    "    return data"
   ]
  },
  {
   "cell_type": "code",
   "execution_count": 3,
   "metadata": {},
   "outputs": [
    {
     "data": {
      "text/html": [
       "<div>\n",
       "<style scoped>\n",
       "    .dataframe tbody tr th:only-of-type {\n",
       "        vertical-align: middle;\n",
       "    }\n",
       "\n",
       "    .dataframe tbody tr th {\n",
       "        vertical-align: top;\n",
       "    }\n",
       "\n",
       "    .dataframe thead th {\n",
       "        text-align: right;\n",
       "    }\n",
       "</style>\n",
       "<table border=\"1\" class=\"dataframe\">\n",
       "  <thead>\n",
       "    <tr style=\"text-align: right;\">\n",
       "      <th></th>\n",
       "      <th>imdbId</th>\n",
       "      <th>title</th>\n",
       "      <th>plot_outline</th>\n",
       "      <th>genres</th>\n",
       "    </tr>\n",
       "  </thead>\n",
       "  <tbody>\n",
       "    <tr>\n",
       "      <th>0</th>\n",
       "      <td>0114709</td>\n",
       "      <td>Toy Story</td>\n",
       "      <td>A little boy named Andy loves to be in his roo...</td>\n",
       "      <td>Animation, Adventure, Comedy, Family, Fantasy</td>\n",
       "    </tr>\n",
       "    <tr>\n",
       "      <th>1</th>\n",
       "      <td>0113497</td>\n",
       "      <td>Jumanji</td>\n",
       "      <td>After being trapped in a jungle board game for...</td>\n",
       "      <td>Adventure, Comedy, Family, Fantasy</td>\n",
       "    </tr>\n",
       "    <tr>\n",
       "      <th>2</th>\n",
       "      <td>0113228</td>\n",
       "      <td>Grumpier Old Men</td>\n",
       "      <td>Things don't seem to change much in Wabasha Co...</td>\n",
       "      <td>Comedy, Romance</td>\n",
       "    </tr>\n",
       "    <tr>\n",
       "      <th>3</th>\n",
       "      <td>0114885</td>\n",
       "      <td>Waiting to Exhale</td>\n",
       "      <td>This story based on the best selling novel by ...</td>\n",
       "      <td>Comedy, Drama, Romance</td>\n",
       "    </tr>\n",
       "    <tr>\n",
       "      <th>4</th>\n",
       "      <td>0113041</td>\n",
       "      <td>Father of the Bride Part II</td>\n",
       "      <td>In this sequel to \"Father of the Bride\", Georg...</td>\n",
       "      <td>Comedy, Family, Romance</td>\n",
       "    </tr>\n",
       "  </tbody>\n",
       "</table>\n",
       "</div>"
      ],
      "text/plain": [
       "    imdbId                        title  \\\n",
       "0  0114709                    Toy Story   \n",
       "1  0113497                      Jumanji   \n",
       "2  0113228             Grumpier Old Men   \n",
       "3  0114885            Waiting to Exhale   \n",
       "4  0113041  Father of the Bride Part II   \n",
       "\n",
       "                                        plot_outline  \\\n",
       "0  A little boy named Andy loves to be in his roo...   \n",
       "1  After being trapped in a jungle board game for...   \n",
       "2  Things don't seem to change much in Wabasha Co...   \n",
       "3  This story based on the best selling novel by ...   \n",
       "4  In this sequel to \"Father of the Bride\", Georg...   \n",
       "\n",
       "                                          genres  \n",
       "0  Animation, Adventure, Comedy, Family, Fantasy  \n",
       "1             Adventure, Comedy, Family, Fantasy  \n",
       "2                                Comedy, Romance  \n",
       "3                         Comedy, Drama, Romance  \n",
       "4                        Comedy, Family, Romance  "
      ]
     },
     "execution_count": 3,
     "metadata": {},
     "output_type": "execute_result"
    }
   ],
   "source": [
    "data = get_main_dataset(dataset_loc)\n",
    "data.head()"
   ]
  },
  {
   "cell_type": "markdown",
   "metadata": {},
   "source": [
    "Check if there are any missing strings"
   ]
  },
  {
   "cell_type": "code",
   "execution_count": 4,
   "metadata": {},
   "outputs": [
    {
     "name": "stdout",
     "output_type": "stream",
     "text": [
      "Number of rows with missing title: 0\n",
      "Number of rows with missing plot_outline: 0\n",
      "Number of rows with missing genres: 0\n"
     ]
    }
   ],
   "source": [
    "num_blank_title = len(data[data['title'] == ''])\n",
    "num_blank_plot_outline = len(data[data['plot_outline'] == ''])\n",
    "num_blank_genres = len(data[data['genres'] == ''])\n",
    "\n",
    "print(\"Number of rows with missing title:\", num_blank_title)\n",
    "print(\"Number of rows with missing plot_outline:\", num_blank_plot_outline)\n",
    "print(\"Number of rows with missing genres:\", num_blank_genres)"
   ]
  },
  {
   "cell_type": "markdown",
   "metadata": {},
   "source": [
    "If we view the genres column, we can see that all genres are all contained in 1 string. We will want to extract this into a list"
   ]
  },
  {
   "cell_type": "code",
   "execution_count": 9,
   "metadata": {},
   "outputs": [
    {
     "name": "stdout",
     "output_type": "stream",
     "text": [
      "Genres as a string: Animation, Adventure, Comedy, Family, Fantasy\n",
      "Genres as a list: ['Animation', 'Adventure', 'Comedy', 'Family', 'Fantasy']\n"
     ]
    }
   ],
   "source": [
    "print(\"Genres as a string:\",data['genres'][0])\n",
    "print(\"Genres as a list:\", data['genres'][0].replace(',', '').split(\" \"))"
   ]
  },
  {
   "cell_type": "code",
   "execution_count": 10,
   "metadata": {},
   "outputs": [],
   "source": [
    "def genre_list_extractor(dataset):\n",
    "    '''\n",
    "    Creates a column containing the genres as a list\n",
    "    '''\n",
    "    data = dataset.copy()\n",
    "    genres_list = []\n",
    "    \n",
    "    for i in data.index:\n",
    "        genre_string = str(data['genres'][i])\n",
    "        genre_list = genre_string.replace(',', '').split(\" \")\n",
    "        genres_list.append(genre_list)\n",
    "        \n",
    "    data['genre_list'] = genres_list\n",
    "    return data    "
   ]
  },
  {
   "cell_type": "code",
   "execution_count": 11,
   "metadata": {},
   "outputs": [
    {
     "data": {
      "text/html": [
       "<div>\n",
       "<style scoped>\n",
       "    .dataframe tbody tr th:only-of-type {\n",
       "        vertical-align: middle;\n",
       "    }\n",
       "\n",
       "    .dataframe tbody tr th {\n",
       "        vertical-align: top;\n",
       "    }\n",
       "\n",
       "    .dataframe thead th {\n",
       "        text-align: right;\n",
       "    }\n",
       "</style>\n",
       "<table border=\"1\" class=\"dataframe\">\n",
       "  <thead>\n",
       "    <tr style=\"text-align: right;\">\n",
       "      <th></th>\n",
       "      <th>imdbId</th>\n",
       "      <th>title</th>\n",
       "      <th>plot_outline</th>\n",
       "      <th>genres</th>\n",
       "      <th>genre_list</th>\n",
       "    </tr>\n",
       "  </thead>\n",
       "  <tbody>\n",
       "    <tr>\n",
       "      <th>0</th>\n",
       "      <td>0114709</td>\n",
       "      <td>Toy Story</td>\n",
       "      <td>A little boy named Andy loves to be in his roo...</td>\n",
       "      <td>Animation, Adventure, Comedy, Family, Fantasy</td>\n",
       "      <td>[Animation, Adventure, Comedy, Family, Fantasy]</td>\n",
       "    </tr>\n",
       "    <tr>\n",
       "      <th>1</th>\n",
       "      <td>0113497</td>\n",
       "      <td>Jumanji</td>\n",
       "      <td>After being trapped in a jungle board game for...</td>\n",
       "      <td>Adventure, Comedy, Family, Fantasy</td>\n",
       "      <td>[Adventure, Comedy, Family, Fantasy]</td>\n",
       "    </tr>\n",
       "    <tr>\n",
       "      <th>2</th>\n",
       "      <td>0113228</td>\n",
       "      <td>Grumpier Old Men</td>\n",
       "      <td>Things don't seem to change much in Wabasha Co...</td>\n",
       "      <td>Comedy, Romance</td>\n",
       "      <td>[Comedy, Romance]</td>\n",
       "    </tr>\n",
       "    <tr>\n",
       "      <th>3</th>\n",
       "      <td>0114885</td>\n",
       "      <td>Waiting to Exhale</td>\n",
       "      <td>This story based on the best selling novel by ...</td>\n",
       "      <td>Comedy, Drama, Romance</td>\n",
       "      <td>[Comedy, Drama, Romance]</td>\n",
       "    </tr>\n",
       "    <tr>\n",
       "      <th>4</th>\n",
       "      <td>0113041</td>\n",
       "      <td>Father of the Bride Part II</td>\n",
       "      <td>In this sequel to \"Father of the Bride\", Georg...</td>\n",
       "      <td>Comedy, Family, Romance</td>\n",
       "      <td>[Comedy, Family, Romance]</td>\n",
       "    </tr>\n",
       "  </tbody>\n",
       "</table>\n",
       "</div>"
      ],
      "text/plain": [
       "    imdbId                        title  \\\n",
       "0  0114709                    Toy Story   \n",
       "1  0113497                      Jumanji   \n",
       "2  0113228             Grumpier Old Men   \n",
       "3  0114885            Waiting to Exhale   \n",
       "4  0113041  Father of the Bride Part II   \n",
       "\n",
       "                                        plot_outline  \\\n",
       "0  A little boy named Andy loves to be in his roo...   \n",
       "1  After being trapped in a jungle board game for...   \n",
       "2  Things don't seem to change much in Wabasha Co...   \n",
       "3  This story based on the best selling novel by ...   \n",
       "4  In this sequel to \"Father of the Bride\", Georg...   \n",
       "\n",
       "                                          genres  \\\n",
       "0  Animation, Adventure, Comedy, Family, Fantasy   \n",
       "1             Adventure, Comedy, Family, Fantasy   \n",
       "2                                Comedy, Romance   \n",
       "3                         Comedy, Drama, Romance   \n",
       "4                        Comedy, Family, Romance   \n",
       "\n",
       "                                        genre_list  \n",
       "0  [Animation, Adventure, Comedy, Family, Fantasy]  \n",
       "1             [Adventure, Comedy, Family, Fantasy]  \n",
       "2                                [Comedy, Romance]  \n",
       "3                         [Comedy, Drama, Romance]  \n",
       "4                        [Comedy, Family, Romance]  "
      ]
     },
     "execution_count": 11,
     "metadata": {},
     "output_type": "execute_result"
    }
   ],
   "source": [
    "data = genre_list_extractor(data)\n",
    "data.head()"
   ]
  },
  {
   "cell_type": "markdown",
   "metadata": {},
   "source": [
    "## Investigate Genres"
   ]
  },
  {
   "cell_type": "code",
   "execution_count": 14,
   "metadata": {},
   "outputs": [
    {
     "name": "stdout",
     "output_type": "stream",
     "text": [
      "There are: 28 genres in the dataset\n"
     ]
    }
   ],
   "source": [
    "total_genres = sum(data['genre_list'], [])\n",
    "print(\"There are:\", len(set(total_genres)), \"genres in the dataset\")"
   ]
  },
  {
   "cell_type": "markdown",
   "metadata": {},
   "source": [
    "In the NLTK library there is a `FreqDist()` function that creates a dictionary of their occurances across a column"
   ]
  },
  {
   "cell_type": "code",
   "execution_count": 15,
   "metadata": {},
   "outputs": [],
   "source": [
    "import nltk"
   ]
  },
  {
   "cell_type": "code",
   "execution_count": 16,
   "metadata": {},
   "outputs": [
    {
     "data": {
      "text/html": [
       "<div>\n",
       "<style scoped>\n",
       "    .dataframe tbody tr th:only-of-type {\n",
       "        vertical-align: middle;\n",
       "    }\n",
       "\n",
       "    .dataframe tbody tr th {\n",
       "        vertical-align: top;\n",
       "    }\n",
       "\n",
       "    .dataframe thead th {\n",
       "        text-align: right;\n",
       "    }\n",
       "</style>\n",
       "<table border=\"1\" class=\"dataframe\">\n",
       "  <thead>\n",
       "    <tr style=\"text-align: right;\">\n",
       "      <th></th>\n",
       "      <th>Count</th>\n",
       "      <th>Genre</th>\n",
       "    </tr>\n",
       "  </thead>\n",
       "  <tbody>\n",
       "    <tr>\n",
       "      <th>0</th>\n",
       "      <td>3</td>\n",
       "      <td>Reality-TV</td>\n",
       "    </tr>\n",
       "    <tr>\n",
       "      <th>1</th>\n",
       "      <td>4095</td>\n",
       "      <td>Action</td>\n",
       "    </tr>\n",
       "    <tr>\n",
       "      <th>2</th>\n",
       "      <td>5719</td>\n",
       "      <td>Thriller</td>\n",
       "    </tr>\n",
       "    <tr>\n",
       "      <th>3</th>\n",
       "      <td>2287</td>\n",
       "      <td>Sci-Fi</td>\n",
       "    </tr>\n",
       "    <tr>\n",
       "      <th>4</th>\n",
       "      <td>1329</td>\n",
       "      <td>History</td>\n",
       "    </tr>\n",
       "  </tbody>\n",
       "</table>\n",
       "</div>"
      ],
      "text/plain": [
       "   Count       Genre\n",
       "0      3  Reality-TV\n",
       "1   4095      Action\n",
       "2   5719    Thriller\n",
       "3   2287      Sci-Fi\n",
       "4   1329     History"
      ]
     },
     "execution_count": 16,
     "metadata": {},
     "output_type": "execute_result"
    }
   ],
   "source": [
    "all_genres = nltk.FreqDist(total_genres)\n",
    "\n",
    "# Create dataframe\n",
    "all_genres_df = pd.DataFrame({'Genre': list(all_genres.keys()), \n",
    "                              'Count': list(all_genres.values())})\n",
    "all_genres_df.head()"
   ]
  },
  {
   "cell_type": "markdown",
   "metadata": {},
   "source": [
    "### Visualise the most commonly used genres\n",
    "\n",
    "**Helper Functions**"
   ]
  },
  {
   "cell_type": "code",
   "execution_count": 89,
   "metadata": {},
   "outputs": [],
   "source": [
    "def set_style():\n",
    "    # This sets reasonable defaults for font size for\n",
    "    # a figure that will go in a paper\n",
    "    sns.set_context(\"paper\")\n",
    "    \n",
    "    # Set the font to be serif, rather than sans\n",
    "    sns.set(font='serif')\n",
    "    \n",
    "    # Make the background white, and specify the\n",
    "    # specific font family\n",
    "    sns.set_style(\"white\", {\n",
    "        \"font.family\": \"serif\",\n",
    "        \"font.serif\": [\"Times\", \"Palatino\", \"serif\"]\n",
    "    })\n",
    "    \n",
    "def set_size(fig, width = 6, height = 6):\n",
    "    fig.set_size_inches(width, height)\n",
    "    # adjust the subplot geometry so not to squish title\n",
    "    plt.tight_layout(rect=[0, 0.03, 1, 0.95])\n",
    "    \n",
    "def save_fig(fig_id):\n",
    "    \"\"\"\n",
    "    Function to automatically save figures \n",
    "    with given name - fig_id\n",
    "    \"\"\"\n",
    "    path = os.path.join(PROJECT_ROOT_DIR, FOLDER, IMAGE_FOLDER, fig_id + \".png\")\n",
    "    print(\"Saving figure\", fig_id)\n",
    "    plt.savefig(path, format='png', dpi=300)"
   ]
  },
  {
   "cell_type": "code",
   "execution_count": 92,
   "metadata": {},
   "outputs": [
    {
     "name": "stdout",
     "output_type": "stream",
     "text": [
      "Saving figure Most Common Genres Barplot\n"
     ]
    },
    {
     "data": {
      "image/png": "[encoded data removed]",
      "text/plain": [
       "<matplotlib.figure.Figure at 0x14dc4cf1da0>"
      ]
     },
     "metadata": {},
     "output_type": "display_data"
    }
   ],
   "source": [
    "# Master Function for Plotting\n",
    "def genres_barplot(data, title):\n",
    "    \n",
    "    # Set style of project\n",
    "    set_style()\n",
    "    \n",
    "    # Generate visualisation\n",
    "    ax = sns.barplot(data = data.sort_values(by = \"Count\", \n",
    "                                                  ascending = False),\n",
    "                                                  x= \"Count\", y = \"Genre\")\n",
    "    fig = plt.gcf()\n",
    "    \n",
    "    # Despine axes and add title\n",
    "    sns.despine(ax=ax, left = True, bottom = True)\n",
    "    fig.suptitle(title, fontsize=12, x=0.55)\n",
    "    \n",
    "    set_size(fig, width = 6, height = 6)\n",
    "    \n",
    "    save_fig(title)\n",
    "    \n",
    "genres_barplot(all_genres_df, \"Most Common Genres Barplot\")"
   ]
  }
 ],
 "metadata": {
  "kernelspec": {
   "display_name": "Python 3",
   "language": "python",
   "name": "python3"
  },
  "language_info": {
   "codemirror_mode": {
    "name": "ipython",
    "version": 3
   },
   "file_extension": ".py",
   "mimetype": "text/x-python",
   "name": "python",
   "nbconvert_exporter": "python",
   "pygments_lexer": "ipython3",
   "version": "3.5.5"
  },
  "toc": {
   "base_numbering": 1,
   "nav_menu": {},
   "number_sections": true,
   "sideBar": true,
   "skip_h1_title": false,
   "title_cell": "Table of Contents",
   "title_sidebar": "Contents",
   "toc_cell": false,
   "toc_position": {},
   "toc_section_display": true,
   "toc_window_display": false
  }
 },
 "nbformat": 4,
 "nbformat_minor": 2
}
