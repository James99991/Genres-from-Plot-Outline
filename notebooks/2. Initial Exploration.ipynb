{
 "cells": [
  {
   "cell_type": "markdown",
   "metadata": {},
   "source": [
    "# Initial Exploration\n",
    "\n",
    "Author: James Smith 28/11/2019"
   ]
  },
  {
   "cell_type": "markdown",
   "metadata": {},
   "source": [
    "## Setup"
   ]
  },
  {
   "cell_type": "code",
   "execution_count": 1,
   "metadata": {},
   "outputs": [],
   "source": [
    "import pandas as pd\n",
    "import os\n",
    "# Change working directory for locating dataset\n",
    "os.chdir(\"..\")\n",
    "\n",
    "# Libraries for producing images\n",
    "import matplotlib.pyplot as plt \n",
    "import seaborn as sns\n",
    "%matplotlib inline\n",
    "# pd.set_option('display.max_colwidth', 300)"
   ]
  },
  {
   "cell_type": "markdown",
   "metadata": {},
   "source": [
    "**Configuration to save figures**"
   ]
  },
  {
   "cell_type": "code",
   "execution_count": 2,
   "metadata": {},
   "outputs": [],
   "source": [
    "# Where to save figures\n",
    "PROJECT_ROOT_DIR = \".\"\n",
    "FOLDER = \"notebooks\"\n",
    "IMAGE_FOLDER = \"images\""
   ]
  },
  {
   "cell_type": "code",
   "execution_count": 3,
   "metadata": {},
   "outputs": [
    {
     "name": "stdout",
     "output_type": "stream",
     "text": [
      "C:\\Users\\User\\Documents\\ITB Year 2\\Text Analytics and Web Content Mining\\Assignments\\Assignment 2\\Data\\overview_dataset.csv\n"
     ]
    }
   ],
   "source": [
    "from genres_from_plot_outline.config import dataset_loc\n",
    "print(dataset_loc)"
   ]
  },
  {
   "cell_type": "code",
   "execution_count": 4,
   "metadata": {},
   "outputs": [],
   "source": [
    "def get_main_dataset(loc):\n",
    "    \"\"\"\n",
    "    IMDb ID's sometimes contain a '0' before the ID, thus \n",
    "    we must ensure we load it as a string and not a number.\n",
    "    \n",
    "    \"\"\"\n",
    "    data = pd.read_csv(loc, usecols = ['imdbId', 'title', 'plot_outline', 'genres'], dtype = {'imdbId': str})\n",
    "    \n",
    "    return data"
   ]
  },
  {
   "cell_type": "code",
   "execution_count": 5,
   "metadata": {},
   "outputs": [
    {
     "data": {
      "text/html": [
       "<div>\n",
       "<style scoped>\n",
       "    .dataframe tbody tr th:only-of-type {\n",
       "        vertical-align: middle;\n",
       "    }\n",
       "\n",
       "    .dataframe tbody tr th {\n",
       "        vertical-align: top;\n",
       "    }\n",
       "\n",
       "    .dataframe thead th {\n",
       "        text-align: right;\n",
       "    }\n",
       "</style>\n",
       "<table border=\"1\" class=\"dataframe\">\n",
       "  <thead>\n",
       "    <tr style=\"text-align: right;\">\n",
       "      <th></th>\n",
       "      <th>imdbId</th>\n",
       "      <th>title</th>\n",
       "      <th>plot_outline</th>\n",
       "      <th>genres</th>\n",
       "    </tr>\n",
       "  </thead>\n",
       "  <tbody>\n",
       "    <tr>\n",
       "      <th>0</th>\n",
       "      <td>0114709</td>\n",
       "      <td>Toy Story</td>\n",
       "      <td>A little boy named Andy loves to be in his roo...</td>\n",
       "      <td>Animation, Adventure, Comedy, Family, Fantasy</td>\n",
       "    </tr>\n",
       "    <tr>\n",
       "      <th>1</th>\n",
       "      <td>0113497</td>\n",
       "      <td>Jumanji</td>\n",
       "      <td>After being trapped in a jungle board game for...</td>\n",
       "      <td>Adventure, Comedy, Family, Fantasy</td>\n",
       "    </tr>\n",
       "    <tr>\n",
       "      <th>2</th>\n",
       "      <td>0113228</td>\n",
       "      <td>Grumpier Old Men</td>\n",
       "      <td>Things don't seem to change much in Wabasha Co...</td>\n",
       "      <td>Comedy, Romance</td>\n",
       "    </tr>\n",
       "    <tr>\n",
       "      <th>3</th>\n",
       "      <td>0114885</td>\n",
       "      <td>Waiting to Exhale</td>\n",
       "      <td>This story based on the best selling novel by ...</td>\n",
       "      <td>Comedy, Drama, Romance</td>\n",
       "    </tr>\n",
       "    <tr>\n",
       "      <th>4</th>\n",
       "      <td>0113041</td>\n",
       "      <td>Father of the Bride Part II</td>\n",
       "      <td>In this sequel to \"Father of the Bride\", Georg...</td>\n",
       "      <td>Comedy, Family, Romance</td>\n",
       "    </tr>\n",
       "  </tbody>\n",
       "</table>\n",
       "</div>"
      ],
      "text/plain": [
       "    imdbId                        title  \\\n",
       "0  0114709                    Toy Story   \n",
       "1  0113497                      Jumanji   \n",
       "2  0113228             Grumpier Old Men   \n",
       "3  0114885            Waiting to Exhale   \n",
       "4  0113041  Father of the Bride Part II   \n",
       "\n",
       "                                        plot_outline  \\\n",
       "0  A little boy named Andy loves to be in his roo...   \n",
       "1  After being trapped in a jungle board game for...   \n",
       "2  Things don't seem to change much in Wabasha Co...   \n",
       "3  This story based on the best selling novel by ...   \n",
       "4  In this sequel to \"Father of the Bride\", Georg...   \n",
       "\n",
       "                                          genres  \n",
       "0  Animation, Adventure, Comedy, Family, Fantasy  \n",
       "1             Adventure, Comedy, Family, Fantasy  \n",
       "2                                Comedy, Romance  \n",
       "3                         Comedy, Drama, Romance  \n",
       "4                        Comedy, Family, Romance  "
      ]
     },
     "execution_count": 5,
     "metadata": {},
     "output_type": "execute_result"
    }
   ],
   "source": [
    "data = get_main_dataset(dataset_loc)\n",
    "data.head()"
   ]
  },
  {
   "cell_type": "markdown",
   "metadata": {},
   "source": [
    "Check if there are any missing strings"
   ]
  },
  {
   "cell_type": "markdown",
   "metadata": {},
   "source": [
    "If we view the genres column, we can see that all genres are all contained in 1 string. We will want to extract this into a list"
   ]
  },
  {
   "cell_type": "code",
   "execution_count": 6,
   "metadata": {},
   "outputs": [
    {
     "name": "stdout",
     "output_type": "stream",
     "text": [
      "Genres as a string: Animation, Adventure, Comedy, Family, Fantasy\n",
      "Genres as a list: ['Animation', 'Adventure', 'Comedy', 'Family', 'Fantasy']\n"
     ]
    }
   ],
   "source": [
    "print(\"Genres as a string:\",data['genres'][0])\n",
    "print(\"Genres as a list:\", data['genres'][0].replace(',', '').split(\" \"))"
   ]
  },
  {
   "cell_type": "code",
   "execution_count": 7,
   "metadata": {},
   "outputs": [],
   "source": [
    "def genre_list_extractor(dataset):\n",
    "    '''\n",
    "    Creates a column containing the genres as a list\n",
    "    '''\n",
    "    data = dataset.copy()\n",
    "    genres_list = []\n",
    "    \n",
    "    for i in data.index:\n",
    "        genre_string = str(data['genres'][i])\n",
    "        genre_list = genre_string.replace(',', '').split(\" \")\n",
    "        genres_list.append(genre_list)\n",
    "        \n",
    "    data['genre_list'] = genres_list\n",
    "    return data    "
   ]
  },
  {
   "cell_type": "code",
   "execution_count": 8,
   "metadata": {},
   "outputs": [
    {
     "data": {
      "text/html": [
       "<div>\n",
       "<style scoped>\n",
       "    .dataframe tbody tr th:only-of-type {\n",
       "        vertical-align: middle;\n",
       "    }\n",
       "\n",
       "    .dataframe tbody tr th {\n",
       "        vertical-align: top;\n",
       "    }\n",
       "\n",
       "    .dataframe thead th {\n",
       "        text-align: right;\n",
       "    }\n",
       "</style>\n",
       "<table border=\"1\" class=\"dataframe\">\n",
       "  <thead>\n",
       "    <tr style=\"text-align: right;\">\n",
       "      <th></th>\n",
       "      <th>imdbId</th>\n",
       "      <th>title</th>\n",
       "      <th>plot_outline</th>\n",
       "      <th>genres</th>\n",
       "      <th>genre_list</th>\n",
       "    </tr>\n",
       "  </thead>\n",
       "  <tbody>\n",
       "    <tr>\n",
       "      <th>0</th>\n",
       "      <td>0114709</td>\n",
       "      <td>Toy Story</td>\n",
       "      <td>A little boy named Andy loves to be in his roo...</td>\n",
       "      <td>Animation, Adventure, Comedy, Family, Fantasy</td>\n",
       "      <td>[Animation, Adventure, Comedy, Family, Fantasy]</td>\n",
       "    </tr>\n",
       "    <tr>\n",
       "      <th>1</th>\n",
       "      <td>0113497</td>\n",
       "      <td>Jumanji</td>\n",
       "      <td>After being trapped in a jungle board game for...</td>\n",
       "      <td>Adventure, Comedy, Family, Fantasy</td>\n",
       "      <td>[Adventure, Comedy, Family, Fantasy]</td>\n",
       "    </tr>\n",
       "    <tr>\n",
       "      <th>2</th>\n",
       "      <td>0113228</td>\n",
       "      <td>Grumpier Old Men</td>\n",
       "      <td>Things don't seem to change much in Wabasha Co...</td>\n",
       "      <td>Comedy, Romance</td>\n",
       "      <td>[Comedy, Romance]</td>\n",
       "    </tr>\n",
       "    <tr>\n",
       "      <th>3</th>\n",
       "      <td>0114885</td>\n",
       "      <td>Waiting to Exhale</td>\n",
       "      <td>This story based on the best selling novel by ...</td>\n",
       "      <td>Comedy, Drama, Romance</td>\n",
       "      <td>[Comedy, Drama, Romance]</td>\n",
       "    </tr>\n",
       "    <tr>\n",
       "      <th>4</th>\n",
       "      <td>0113041</td>\n",
       "      <td>Father of the Bride Part II</td>\n",
       "      <td>In this sequel to \"Father of the Bride\", Georg...</td>\n",
       "      <td>Comedy, Family, Romance</td>\n",
       "      <td>[Comedy, Family, Romance]</td>\n",
       "    </tr>\n",
       "  </tbody>\n",
       "</table>\n",
       "</div>"
      ],
      "text/plain": [
       "    imdbId                        title  \\\n",
       "0  0114709                    Toy Story   \n",
       "1  0113497                      Jumanji   \n",
       "2  0113228             Grumpier Old Men   \n",
       "3  0114885            Waiting to Exhale   \n",
       "4  0113041  Father of the Bride Part II   \n",
       "\n",
       "                                        plot_outline  \\\n",
       "0  A little boy named Andy loves to be in his roo...   \n",
       "1  After being trapped in a jungle board game for...   \n",
       "2  Things don't seem to change much in Wabasha Co...   \n",
       "3  This story based on the best selling novel by ...   \n",
       "4  In this sequel to \"Father of the Bride\", Georg...   \n",
       "\n",
       "                                          genres  \\\n",
       "0  Animation, Adventure, Comedy, Family, Fantasy   \n",
       "1             Adventure, Comedy, Family, Fantasy   \n",
       "2                                Comedy, Romance   \n",
       "3                         Comedy, Drama, Romance   \n",
       "4                        Comedy, Family, Romance   \n",
       "\n",
       "                                        genre_list  \n",
       "0  [Animation, Adventure, Comedy, Family, Fantasy]  \n",
       "1             [Adventure, Comedy, Family, Fantasy]  \n",
       "2                                [Comedy, Romance]  \n",
       "3                         [Comedy, Drama, Romance]  \n",
       "4                        [Comedy, Family, Romance]  "
      ]
     },
     "execution_count": 8,
     "metadata": {},
     "output_type": "execute_result"
    }
   ],
   "source": [
    "data = genre_list_extractor(data)\n",
    "data.head()"
   ]
  },
  {
   "cell_type": "markdown",
   "metadata": {},
   "source": [
    "## Investigate Genres"
   ]
  },
  {
   "cell_type": "code",
   "execution_count": 9,
   "metadata": {},
   "outputs": [
    {
     "name": "stdout",
     "output_type": "stream",
     "text": [
      "There are: 28 genres in the dataset\n"
     ]
    }
   ],
   "source": [
    "total_genres = sum(data['genre_list'], [])\n",
    "print(\"There are:\", len(set(total_genres)), \"genres in the dataset\")"
   ]
  },
  {
   "cell_type": "markdown",
   "metadata": {},
   "source": [
    "In the NLTK library there is a `FreqDist()` function that creates a dictionary of their occurances across a column"
   ]
  },
  {
   "cell_type": "code",
   "execution_count": 10,
   "metadata": {},
   "outputs": [],
   "source": [
    "import nltk"
   ]
  },
  {
   "cell_type": "code",
   "execution_count": 11,
   "metadata": {},
   "outputs": [
    {
     "data": {
      "text/html": [
       "<div>\n",
       "<style scoped>\n",
       "    .dataframe tbody tr th:only-of-type {\n",
       "        vertical-align: middle;\n",
       "    }\n",
       "\n",
       "    .dataframe tbody tr th {\n",
       "        vertical-align: top;\n",
       "    }\n",
       "\n",
       "    .dataframe thead th {\n",
       "        text-align: right;\n",
       "    }\n",
       "</style>\n",
       "<table border=\"1\" class=\"dataframe\">\n",
       "  <thead>\n",
       "    <tr style=\"text-align: right;\">\n",
       "      <th></th>\n",
       "      <th>Count</th>\n",
       "      <th>Genre</th>\n",
       "    </tr>\n",
       "  </thead>\n",
       "  <tbody>\n",
       "    <tr>\n",
       "      <th>0</th>\n",
       "      <td>1475</td>\n",
       "      <td>War</td>\n",
       "    </tr>\n",
       "    <tr>\n",
       "      <th>1</th>\n",
       "      <td>4244</td>\n",
       "      <td>Crime</td>\n",
       "    </tr>\n",
       "    <tr>\n",
       "      <th>2</th>\n",
       "      <td>20</td>\n",
       "      <td>nan</td>\n",
       "    </tr>\n",
       "    <tr>\n",
       "      <th>3</th>\n",
       "      <td>3189</td>\n",
       "      <td>Adventure</td>\n",
       "    </tr>\n",
       "    <tr>\n",
       "      <th>4</th>\n",
       "      <td>769</td>\n",
       "      <td>Western</td>\n",
       "    </tr>\n",
       "  </tbody>\n",
       "</table>\n",
       "</div>"
      ],
      "text/plain": [
       "   Count      Genre\n",
       "0   1475        War\n",
       "1   4244      Crime\n",
       "2     20        nan\n",
       "3   3189  Adventure\n",
       "4    769    Western"
      ]
     },
     "execution_count": 11,
     "metadata": {},
     "output_type": "execute_result"
    }
   ],
   "source": [
    "all_genres = nltk.FreqDist(total_genres)\n",
    "\n",
    "# Create dataframe\n",
    "all_genres_df = pd.DataFrame({'Genre': list(all_genres.keys()), \n",
    "                              'Count': list(all_genres.values())})\n",
    "all_genres_df.head()"
   ]
  },
  {
   "cell_type": "markdown",
   "metadata": {},
   "source": [
    "### Visualise the most commonly used genres\n",
    "\n",
    "**Helper Functions**\n",
    "\n",
    "**Setting up environment for images**\n",
    "- For double column paper images [should be](https://www.sciencemag.org/sites/default/files/Figure_prep_guide.pdf) less than 184mm (7.25 inches) width\n",
    "- For producing academic style plots the link [here](http://www.jesshamrick.com/2016/04/13/reproducible-plots/) gives some good advice with code."
   ]
  },
  {
   "cell_type": "code",
   "execution_count": 12,
   "metadata": {},
   "outputs": [],
   "source": [
    "def set_style():\n",
    "    # This sets reasonable defaults for font size for\n",
    "    # a figure that will go in a paper\n",
    "    sns.set_context(\"paper\")\n",
    "    \n",
    "    # Set the font to be serif, rather than sans\n",
    "    sns.set(font='serif')\n",
    "    \n",
    "    # Make the background white, and specify the\n",
    "    # specific font family\n",
    "    sns.set_style(\"white\", {\n",
    "        \"font.family\": \"serif\",\n",
    "        \"font.serif\": [\"Times\", \"Palatino\", \"serif\"]\n",
    "    })\n",
    "    \n",
    "def set_size(fig, width = 6, height = 6):\n",
    "    fig.set_size_inches(width, height)\n",
    "    # adjust the subplot geometry so not to squish title\n",
    "    plt.tight_layout(rect=[0, 0.03, 1, 0.95])\n",
    "    \n",
    "def save_fig(fig_id):\n",
    "    \"\"\"\n",
    "    Function to automatically save figures \n",
    "    with given name - fig_id\n",
    "    \"\"\"\n",
    "    path = os.path.join(PROJECT_ROOT_DIR, FOLDER, IMAGE_FOLDER, fig_id + \".png\")\n",
    "    print(\"Saving figure\", fig_id)\n",
    "    plt.savefig(path, format='png', dpi=300)"
   ]
  },
  {
   "cell_type": "code",
   "execution_count": 13,
   "metadata": {},
   "outputs": [
    {
     "name": "stdout",
     "output_type": "stream",
     "text": [
      "Saving figure Most Common Genres\n"
     ]
    },
    {
     "data": {
      "image/png": "[encoded data removed]",
      "text/plain": [
       "<matplotlib.figure.Figure at 0x1b24dcda080>"
      ]
     },
     "metadata": {},
     "output_type": "display_data"
    }
   ],
   "source": [
    "# Master Function for Plotting\n",
    "def genres_barplot(data, title):\n",
    "    \n",
    "    # Set style of project\n",
    "    set_style()\n",
    "    \n",
    "    # Generate visualisation\n",
    "    ax = sns.barplot(data = data.sort_values(by = \"Count\", \n",
    "                                                  ascending = False),\n",
    "                                                  x= \"Count\", y = \"Genre\")\n",
    "    fig = plt.gcf()\n",
    "    \n",
    "    # Despine axes and add title\n",
    "    sns.despine(ax=ax, left = True, bottom = True)\n",
    "    fig.suptitle(title, fontsize=12, x=0.55)\n",
    "    \n",
    "    set_size(fig, width = 6, height = 6)\n",
    "    \n",
    "    save_fig(title)\n",
    "    \n",
    "genres_barplot(all_genres_df, \"Most Common Genres\")"
   ]
  },
  {
   "cell_type": "markdown",
   "metadata": {},
   "source": [
    "### Investigate nan Genre"
   ]
  },
  {
   "cell_type": "code",
   "execution_count": 14,
   "metadata": {},
   "outputs": [
    {
     "data": {
      "text/html": [
       "<div>\n",
       "<style scoped>\n",
       "    .dataframe tbody tr th:only-of-type {\n",
       "        vertical-align: middle;\n",
       "    }\n",
       "\n",
       "    .dataframe tbody tr th {\n",
       "        vertical-align: top;\n",
       "    }\n",
       "\n",
       "    .dataframe thead th {\n",
       "        text-align: right;\n",
       "    }\n",
       "</style>\n",
       "<table border=\"1\" class=\"dataframe\">\n",
       "  <thead>\n",
       "    <tr style=\"text-align: right;\">\n",
       "      <th></th>\n",
       "      <th>imdbId</th>\n",
       "      <th>title</th>\n",
       "      <th>plot_outline</th>\n",
       "      <th>genres</th>\n",
       "      <th>genre_list</th>\n",
       "    </tr>\n",
       "  </thead>\n",
       "  <tbody>\n",
       "    <tr>\n",
       "      <th>0</th>\n",
       "      <td>0114709</td>\n",
       "      <td>Toy Story</td>\n",
       "      <td>A little boy named Andy loves to be in his roo...</td>\n",
       "      <td>Animation, Adventure, Comedy, Family, Fantasy</td>\n",
       "      <td>[Animation, Adventure, Comedy, Family, Fantasy]</td>\n",
       "    </tr>\n",
       "  </tbody>\n",
       "</table>\n",
       "</div>"
      ],
      "text/plain": [
       "    imdbId      title                                       plot_outline  \\\n",
       "0  0114709  Toy Story  A little boy named Andy loves to be in his roo...   \n",
       "\n",
       "                                          genres  \\\n",
       "0  Animation, Adventure, Comedy, Family, Fantasy   \n",
       "\n",
       "                                        genre_list  \n",
       "0  [Animation, Adventure, Comedy, Family, Fantasy]  "
      ]
     },
     "execution_count": 14,
     "metadata": {},
     "output_type": "execute_result"
    }
   ],
   "source": [
    "data[0:1]"
   ]
  },
  {
   "cell_type": "code",
   "execution_count": 15,
   "metadata": {},
   "outputs": [
    {
     "data": {
      "text/plain": [
       "['Adventure', 'Comedy', 'Family', 'Fantasy']"
      ]
     },
     "execution_count": 15,
     "metadata": {},
     "output_type": "execute_result"
    }
   ],
   "source": [
    "data['genre_list'][1]"
   ]
  },
  {
   "cell_type": "code",
   "execution_count": 16,
   "metadata": {},
   "outputs": [
    {
     "name": "stdout",
     "output_type": "stream",
     "text": [
      "[708, 757, 811, 844, 1509, 1517, 3160, 8828, 8843, 10383, 11871, 11891, 17126, 19003, 19260, 20221, 20944, 20964, 22986, 24022]\n"
     ]
    }
   ],
   "source": [
    "rows_with_nan = []\n",
    "for i in range(0, len(data)):\n",
    "    if 'nan' in data['genre_list'][i]:\n",
    "        rows_with_nan.append(i)\n",
    "        \n",
    "print(rows_with_nan)"
   ]
  },
  {
   "cell_type": "code",
   "execution_count": 17,
   "metadata": {},
   "outputs": [
    {
     "data": {
      "text/plain": [
       "imdbId            0112865\n",
       "title           Diebinnen\n",
       "plot_outline          NaN\n",
       "genres                NaN\n",
       "genre_list          [nan]\n",
       "Name: 811, dtype: object"
      ]
     },
     "execution_count": 17,
     "metadata": {},
     "output_type": "execute_result"
    }
   ],
   "source": [
    "data.iloc[811]"
   ]
  },
  {
   "cell_type": "markdown",
   "metadata": {},
   "source": [
    "Some imdb ID's do not have any plot outlines or even genres. We can see below the film Diebinnen doesn't contain this info on the IMDB website.\n",
    "\n",
    "![Diebinnen](external_images_for_notebooks/diebinnen.png)\n",
    "\n",
    "Based on this, we will remove these rows in `rows_with_nan` from the main dataframe"
   ]
  },
  {
   "cell_type": "code",
   "execution_count": 18,
   "metadata": {},
   "outputs": [
    {
     "name": "stdout",
     "output_type": "stream",
     "text": [
      "20 rows with missing values have been removed\n"
     ]
    }
   ],
   "source": [
    "data_clean = data.drop(rows_with_nan)\n",
    "print(len(data)-len(data_clean), \"rows with missing values have been removed\")"
   ]
  },
  {
   "cell_type": "markdown",
   "metadata": {},
   "source": [
    "## Investigate Plot Outlines\n",
    "\n",
    "We will assume that plot overviews are single paragraphs\n",
    "\n",
    "> Ultimately, much of the work for language-aware applications comes from domainspecific\n",
    "feature analysis, not just simple vectorization.\n",
    "\n",
    "> If we can think of paragraphs as the units of document structure, it is useful to see\n",
    "sentences as the units of discourse. Just as a paragraph within a document comprises\n",
    "a single idea, a sentence contains a complete language structure, one that we want to\n",
    "be able to identify and encode - Applied Text Analytics with Python"
   ]
  },
  {
   "cell_type": "markdown",
   "metadata": {},
   "source": [
    "### Sentence tokenization\n",
    "\n",
    "NLTK contains the method `sent_tokenize` which tokenizes sentences. It is based on an unsupervised learning algorithm `PunktSentenceTokenizer`. From it's [source code](https://www.nltk.org/_modules/nltk/tokenize/punkt.html) \n",
    "\n",
    "> knows that the periods in Mr. Smith and Johann S. Bach\n",
    "    ... do not mark sentence boundaries.  And sometimes sentences\n",
    "    ... can start with non-capitalized words.  i is a good variable\n",
    "    ... name."
   ]
  },
  {
   "cell_type": "code",
   "execution_count": 19,
   "metadata": {},
   "outputs": [
    {
     "data": {
      "text/plain": [
       "['this story based on the best selling novel by terry mcmillan follows the lives of four african-american women as they try to deal with their very lives.',\n",
       " 'friendship becomes the strongest bond between these women as men, careers, and families take them in different directions.',\n",
       " \"often light-hearted this movie speaks about some of the problems and struggles the modern women face in today's world.\"]"
      ]
     },
     "execution_count": 19,
     "metadata": {},
     "output_type": "execute_result"
    }
   ],
   "source": [
    "from nltk.tokenize import sent_tokenize\n",
    "\n",
    "# Test run\n",
    "example = data['plot_outline'][3].lower()\n",
    "sent_tokenize(example)"
   ]
  },
  {
   "cell_type": "code",
   "execution_count": 22,
   "metadata": {},
   "outputs": [],
   "source": [
    "def sentence_extractor(data):\n",
    "    '''\n",
    "    Creates a column with tokenized sentences\n",
    "    '''\n",
    "    data = data.copy()\n",
    "    sentences_list = []\n",
    "    num_sentences_list = []\n",
    "    \n",
    "    for i in data.index:\n",
    "        sentences = sent_tokenize(str(data['plot_outline'][i]).lower())\n",
    "        num_sentences = len(sentences)\n",
    "        \n",
    "        sentences_list.append(sentences)\n",
    "        num_sentences_list.append(num_sentences)\n",
    "        \n",
    "    data['plot_outline_sentences'] = sentences_list\n",
    "    data['plot_outline_num_sentences'] = num_sentences_list\n",
    "    \n",
    "    return data    "
   ]
  },
  {
   "cell_type": "code",
   "execution_count": 23,
   "metadata": {},
   "outputs": [],
   "source": [
    "data = sentence_extractor(data)"
   ]
  },
  {
   "cell_type": "code",
   "execution_count": 24,
   "metadata": {},
   "outputs": [
    {
     "name": "stdout",
     "output_type": "stream",
     "text": [
      "Saving figure Histogram for sentence number in overviews\n"
     ]
    },
    {
     "data": {
      "image/png": "[encoded data removed]",
      "text/plain": [
       "<matplotlib.figure.Figure at 0x1b24f5c8c50>"
      ]
     },
     "metadata": {},
     "output_type": "display_data"
    }
   ],
   "source": [
    "def sentence_num_hist_plot(data, title):\n",
    "    \n",
    "    # Set style of project\n",
    "    set_style()\n",
    "    \n",
    "    mean = data['plot_outline_num_sentences'].mean()\n",
    "\n",
    "    ax = sns.distplot(data['plot_outline_num_sentences'], axlabel = \"Sentence number in overviews\")\n",
    "\n",
    "    fig = plt.gcf()\n",
    "\n",
    "    # Despine axes and add title\n",
    "    sns.despine(ax=ax, left = True, bottom = True)\n",
    "    fig.suptitle(title, fontsize=12, x=0.55)\n",
    "\n",
    "    plt.axvline(mean, color='r', linestyle='--')\n",
    "    plt.legend({'Mean':mean})\n",
    "    \n",
    "    set_size(fig, width = 6, height = 4)\n",
    "    save_fig(title)\n",
    "    \n",
    "\n",
    "sentence_num_hist_plot(data, \"Histogram for sentence number in overviews\")"
   ]
  },
  {
   "cell_type": "markdown",
   "metadata": {},
   "source": [
    "### Word tokenization\n",
    "\n",
    "> We’ve defined sentences as the units of discourse and paragraphs as the units of document\n",
    "structure. In this section, we will isolate tokens, the syntactic units of language\n",
    "that encode semantic information within sequences of characters\n",
    "\n",
    "> Tokenization is the process by which we’ll arrive at those tokens, and we’ll use Word\n",
    "PunctTokenizer, a regular expression–based tokenizer that splits text on both whitespace\n",
    "and punctuation and returns a list of alphabetic and nonalphabetic characters:"
   ]
  },
  {
   "cell_type": "code",
   "execution_count": 25,
   "metadata": {},
   "outputs": [],
   "source": [
    "from nltk import wordpunct_tokenize # To tokenize\n",
    "\n",
    "from nltk.stem import SnowballStemmer # Stemming for feature reduction\n",
    "\n",
    "import string # Remove punctuation\n",
    "\n",
    "from nltk.corpus import stopwords # Remove stopwords"
   ]
  },
  {
   "cell_type": "markdown",
   "metadata": {},
   "source": [
    "**Won't stem for now as excessive text normalisation my be corruptive for such short texts**\n",
    "\n",
    "https://www.researchgate.net/post/What_is_a_good_way_to_perform_topic_modeling_on_short_text"
   ]
  },
  {
   "cell_type": "code",
   "execution_count": 26,
   "metadata": {},
   "outputs": [],
   "source": [
    "def word_tokenize(data):\n",
    "    '''\n",
    "    Creates a column with cleaned tokens and the number of tokens\n",
    "    Text normalisation\n",
    "    '''\n",
    "    \n",
    "    stop_words = set(stopwords.words('english'))\n",
    "    stem = nltk.stem.SnowballStemmer('english')\n",
    "    \n",
    "    data = data.copy()\n",
    "    \n",
    "    tokens_list = []\n",
    "    tokens_stemmed_list = []\n",
    "    num_tokens_list = []\n",
    "    \n",
    "    for i in data.index:\n",
    "        \n",
    "        # Convert to lowercase and tokenize text\n",
    "        outline = str(data['plot_outline'][i]).lower() \n",
    "        outline_list = wordpunct_tokenize(outline)\n",
    "        \n",
    "        # Using list comprehensions to remove stopwords and punctuation\n",
    "        outline_list_no_stopwords = [word for word in outline_list if not word in stop_words]\n",
    "        tokens = [word for word in outline_list_no_stopwords if not word in list(string.punctuation)]\n",
    "        \n",
    "        # Stemmed tokens \n",
    "        tokens_stem = [stem.stem(word) for word in tokens]\n",
    "        \n",
    "        num_tokens = len(tokens)\n",
    "        \n",
    "        tokens_list.append(tokens)\n",
    "        tokens_stemmed_list.append(tokens_stem)\n",
    "        num_tokens_list.append(num_tokens)\n",
    "        \n",
    "    data['plot_outline_words'] = tokens_list\n",
    "    data['plot_outline_stemmed_words'] = tokens_stemmed_list\n",
    "    data['plot_outline_num_words'] = num_tokens_list\n",
    "    \n",
    "    return data "
   ]
  },
  {
   "cell_type": "code",
   "execution_count": 27,
   "metadata": {},
   "outputs": [
    {
     "data": {
      "text/plain": [
       "0    [little, boy, named, andy, loves, room, playin...\n",
       "1    [trapped, jungle, board, game, 26, years, man,...\n",
       "Name: plot_outline_words, dtype: object"
      ]
     },
     "execution_count": 27,
     "metadata": {},
     "output_type": "execute_result"
    }
   ],
   "source": [
    "data = word_tokenize(data)\n",
    "data['plot_outline_words'].head(2)"
   ]
  },
  {
   "cell_type": "code",
   "execution_count": 28,
   "metadata": {},
   "outputs": [],
   "source": [
    "# Tests\n",
    "# stop_words = set(stopwords.words('english'))\n",
    "# stem = nltk.stem.SnowballStemmer('english')\n",
    "\n",
    "# outline = str(data['plot_outline'][1]).lower() \n",
    "# outline_list = wordpunct_tokenize(outline)\n",
    "# outline_list_no_stopwords = [word for word in outline_list if not word in stop_words]\n",
    "# print(len(outline_list) - len(outline_list_no_stopwords), \"stopwords removed\")\n",
    "\n",
    "# stemmed_words = [stem.stem(word) for word in outline_list_no_stopwords]\n",
    "\n",
    "# stemmed_words"
   ]
  },
  {
   "cell_type": "markdown",
   "metadata": {},
   "source": [
    "**Visualising**"
   ]
  },
  {
   "cell_type": "code",
   "execution_count": 29,
   "metadata": {},
   "outputs": [],
   "source": [
    "# Takes a long time to run\n",
    "#total_words = sum(data['plot_outline_words'], [])\n",
    "#total_stemmed_words = sum(data['plot_outline_stemmed_words'], [])\n",
    "#print(\"There are:\", len(set(total_words)), \" unique words in the dataset\")\n",
    "#print(\"There are:\", len(set(total_stemmed_words)), \" unique words in the dataset after stemming\")"
   ]
  },
  {
   "cell_type": "code",
   "execution_count": 50,
   "metadata": {},
   "outputs": [],
   "source": [
    "def unique_words(column):\n",
    "    column = column\n",
    "    all_words = ' '\n",
    "    for i in column:\n",
    "        #words = [word for word in i]\n",
    "        words = ' '.join([word for word in i])\n",
    "        # all_words.append(words)\n",
    "        all_words += ' ' + words\n",
    "\n",
    "    all_words = set(all_words.split())\n",
    "    \n",
    "    all_words"
   ]
  },
  {
   "cell_type": "code",
   "execution_count": 51,
   "metadata": {},
   "outputs": [
    {
     "ename": "TypeError",
     "evalue": "object of type 'NoneType' has no len()",
     "output_type": "error",
     "traceback": [
      "\u001b[1;31m---------------------------------------------------------------------------\u001b[0m",
      "\u001b[1;31mTypeError\u001b[0m                                 Traceback (most recent call last)",
      "\u001b[1;32m<ipython-input-51-c46b83362b27>\u001b[0m in \u001b[0;36m<module>\u001b[1;34m()\u001b[0m\n\u001b[0;32m      2\u001b[0m \u001b[0mall_words_stemmed\u001b[0m \u001b[1;33m=\u001b[0m \u001b[0munique_words\u001b[0m\u001b[1;33m(\u001b[0m\u001b[0mdata\u001b[0m\u001b[1;33m[\u001b[0m\u001b[1;34m'plot_outline_stemmed_words'\u001b[0m\u001b[1;33m]\u001b[0m\u001b[1;33m)\u001b[0m\u001b[1;33m\u001b[0m\u001b[0m\n\u001b[0;32m      3\u001b[0m \u001b[1;33m\u001b[0m\u001b[0m\n\u001b[1;32m----> 4\u001b[1;33m \u001b[0mprint\u001b[0m\u001b[1;33m(\u001b[0m\u001b[1;34m\"There are\"\u001b[0m\u001b[1;33m,\u001b[0m \u001b[0mlen\u001b[0m\u001b[1;33m(\u001b[0m\u001b[0mall_words\u001b[0m\u001b[1;33m)\u001b[0m\u001b[1;33m,\u001b[0m \u001b[1;34m\"unique words in 'plot_outline_words'\"\u001b[0m\u001b[1;33m)\u001b[0m\u001b[1;33m\u001b[0m\u001b[0m\n\u001b[0m\u001b[0;32m      5\u001b[0m \u001b[0mprint\u001b[0m\u001b[1;33m(\u001b[0m\u001b[1;34m\"There are\"\u001b[0m\u001b[1;33m,\u001b[0m \u001b[0mlen\u001b[0m\u001b[1;33m(\u001b[0m\u001b[0mall_words_stemmed\u001b[0m\u001b[1;33m)\u001b[0m\u001b[1;33m,\u001b[0m \u001b[1;34m\"unique words in 'plot_outline_stemmed_words'\"\u001b[0m\u001b[1;33m)\u001b[0m\u001b[1;33m\u001b[0m\u001b[0m\n\u001b[0;32m      6\u001b[0m \u001b[0mprint\u001b[0m\u001b[1;33m(\u001b[0m\u001b[1;34m\"Thats a reduction of\"\u001b[0m \u001b[1;33m(\u001b[0m\u001b[1;33m(\u001b[0m\u001b[0mlen\u001b[0m\u001b[1;33m(\u001b[0m\u001b[0mall_words\u001b[0m\u001b[1;33m)\u001b[0m\u001b[1;33m-\u001b[0m\u001b[0mlen\u001b[0m\u001b[1;33m(\u001b[0m\u001b[0mall_words_stemmed\u001b[0m\u001b[1;33m)\u001b[0m\u001b[1;33m)\u001b[0m\u001b[1;33m/\u001b[0m\u001b[0mlen\u001b[0m\u001b[1;33m(\u001b[0m\u001b[0mall_words\u001b[0m\u001b[1;33m)\u001b[0m\u001b[1;33m)\u001b[0m\u001b[1;33m*\u001b[0m\u001b[1;36m100\u001b[0m\u001b[1;33m,\u001b[0m \u001b[1;34m\"percent\"\u001b[0m\u001b[1;33m)\u001b[0m\u001b[1;33m\u001b[0m\u001b[0m\n",
      "\u001b[1;31mTypeError\u001b[0m: object of type 'NoneType' has no len()"
     ]
    }
   ],
   "source": [
    "all_words = unique_words(data['plot_outline_words'])\n",
    "all_words_stemmed = unique_words(data['plot_outline_stemmed_words'])\n",
    "\n",
    "print(\"There are\", len(all_words), \"unique words in 'plot_outline_words'\")\n",
    "print(\"There are\", len(all_words_stemmed), \"unique words in 'plot_outline_stemmed_words'\")\n",
    "print(\"Thats a reduction of\" ((len(all_words)-len(all_words_stemmed))/len(all_words))*100, \"percent\")"
   ]
  },
  {
   "cell_type": "code",
   "execution_count": null,
   "metadata": {},
   "outputs": [],
   "source": [
    "def freq_words(x, terms = 30): \n",
    "    \n",
    "  all_words = ' '.join([text for text in x]) \n",
    "  all_words = all_words.split() \n",
    "    \n",
    "  fdist = nltk.FreqDist(all_words) \n",
    "  words_df = pd.DataFrame({'word':list(fdist.keys()), 'count':list(fdist.values())}) \n",
    "  \n",
    "  # selecting top n most frequent words \n",
    "  d = words_df.nlargest(columns=\"count\", n = terms) \n",
    "  \n",
    "  # visualize words and frequencies\n",
    "  plt.figure(figsize=(12,15)) \n",
    "  ax = sns.barplot(data=d, x= \"Count\", y = \"Word\") \n",
    "  ax.set(ylabel = 'Word') \n",
    "  plt.show()\n",
    "  \n",
    "# print 100 most frequent words \n",
    "freq_words(data['clean_plot_outline'], 100)"
   ]
  },
  {
   "cell_type": "code",
   "execution_count": 46,
   "metadata": {},
   "outputs": [
    {
     "data": {
      "text/plain": [
       "'0        [little, boy, named, andy, loves, room, playin...\\n1        [trapped, jungle, board, game, 26, years, man,...\\n2        [things, seem, change, much, wabasha, county, ...\\n3        [story, based, best, selling, novel, terry, mc...\\n4        [sequel, father, bride, \",, george, banks, mus...\\n5        [hunters, prey, --, neil, professional, crimin...\\n6        [growing, sabrina, fairchild, spent, time, per...\\n7        [mischievous, young, boy, tom, sawyer, jonatha...\\n8        [terrorists, kidnap, vice, president, united, ...\\n9        [deadly, satellite, weapon, system, falls, wro...\\n10       [andrew, shepherd, approaching, end, first, te...\\n11       [another, spoof, mind, mel, brooks, time, poke...\\n12       [half, wolf, half, husky, named, balto, gets, ...\\n13       [writer, producer, director, oliver, stone, ex...\\n14       [morgan, adams, slave, william, shaw, quest, r...\\n15       [martin, scorsese, film, depicts, janus, like,...\\n16       [mr, dashwood, dies, must, leave, bulk, estate...\\n17       [movie, features, collaborative, directorial, ...\\n18       [ace, ventura, emerging, self, imposed, exile,...\\n19       [two, foster, brothers, work, transit, cops, o...\\n20       [guys, get, luck, whether, like, chili, palmer...\\n21       [san, francisco, criminal, psychologist, helen...\\n22       [robert, rath, seasoned, hitman, wants, busine...\\n23       [sheriff, barnum, investigates, death, elderly...\\n24       [wife, left, took, son, screenwriter, ben, san...\\n25       [iago, convinces, othello, moor, venice, wife,...\\n26       [roberta, teeny, samantha, chrissy, busy, grow...\\n27       [eight, years, earlier, anne, elliot, daughter...\\n28       [set, dystopian, society, someone, kidnapping,...\\n29       [uncle, liu, brings, cousin, shanghai, work, b...\\n                               ...                        \\n28221    [alternate, version, oakland, cassius, green, ...\\n28222    [aftermath, captain, america, civil, war, 2016...\\n28223    [marcello, small, gentle, dog, groomer, finds,...\\n28224    [discover, donna, meryl, streep, lily, james, ...\\n28225    [childhood, friends, jerry, jeremy, renner, ),...\\n28226    [toby, cynical, supposedly, genius, film, dire...\\n28227    [single, mom, laura, farmiga, ),, along, awkwa...\\n28228                                                [nan]\\n28229    [two, years, ethan, hunt, successfully, captur...\\n28230    [priest, young, experienced, coke, dealer, atl...\\n28231                                                [nan]\\n28232    [early, 1970s, ron, stallworth, hired, first, ...\\n28233    [disease, killed, 98, children, young, people,...\\n28234    [tilt, love, story, set, backdrop, changing, p...\\n28235    [roastmaster, jeff, ross, explores, world, sur...\\n28236    [bored, spending, summer, city, 15, year, old,...\\n28237                                                [nan]\\n28238    [bunny, elderly, rabbit, uses, walker, kitchen...\\n28239                                                [nan]\\n28240                                                [nan]\\n28241                                                [nan]\\n28242    [group, friends, together, forever, one, died,...\\n28243    [yuugo, grew, city, finds, unfamiliar, environ...\\n28244    [story, film, begins, events, second, season, ...\\n28245                                                [nan]\\n28246    [whispers, turn, screaming, headlines, earl, c...\\n28247    [movie, following, light, novel, series, name,...\\n28248                                                [nan]\\n28249    [rivalry, groups, criminals, detectives, use, ...\\n28250    [diceman, poor, pathetic, put, upon, jew, new,...\\nName: plot_outline_words, Length: 28251, dtype: object'"
      ]
     },
     "execution_count": 46,
     "metadata": {},
     "output_type": "execute_result"
    }
   ],
   "source": []
  },
  {
   "cell_type": "code",
   "execution_count": null,
   "metadata": {},
   "outputs": [],
   "source": []
  }
 ],
 "metadata": {
  "kernelspec": {
   "display_name": "Python 3",
   "language": "python",
   "name": "python3"
  },
  "language_info": {
   "codemirror_mode": {
    "name": "ipython",
    "version": 3
   },
   "file_extension": ".py",
   "mimetype": "text/x-python",
   "name": "python",
   "nbconvert_exporter": "python",
   "pygments_lexer": "ipython3",
   "version": "3.5.5"
  },
  "toc": {
   "base_numbering": 1,
   "nav_menu": {},
   "number_sections": true,
   "sideBar": true,
   "skip_h1_title": false,
   "title_cell": "Table of Contents",
   "title_sidebar": "Contents",
   "toc_cell": false,
   "toc_position": {},
   "toc_section_display": true,
   "toc_window_display": false
  }
 },
 "nbformat": 4,
 "nbformat_minor": 2
}
